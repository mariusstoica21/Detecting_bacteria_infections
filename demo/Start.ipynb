{
 "cells": [
  {
   "cell_type": "markdown",
   "id": "9b867cb3",
   "metadata": {},
   "source": [
    "<h1>Detecting bacteria infections - Demo Version</h1>\n",
    "\n",
    "For confidentiality reasons, there are 2 version of code: \"Original version code\" and \"Demo version code\".\n",
    "\n",
    "\"Original version code\" has 40 training samples and 10 test samples, but data is not available. \n",
    "\n",
    "\"Demo version code\", operates only with one sample. The purpose is to display a glimpse of the data that has been worked on."
   ]
  },
  {
   "cell_type": "markdown",
   "id": "e0f44244",
   "metadata": {},
   "source": [
    "Load information from Excel file into dataframes. \n",
    "\n",
    "There were 50 experiments run. \n",
    "\n",
    "Every experiment consists of the following data:\n",
    "<ul>\n",
    "    <li>input: 2d points (X/V, Y/µA), where X/V was in the interval [-0.75, 0.75]. </li>\n",
    "    <li>output: siderophore (Pyociannina, Aerobactin, Enterobactin) and its respective quantity in mmol (0,25,50,100).</li>\n",
    "</ul>\n",
    "\n",
    "A dictionary of dataframes was created.\n",
    "\n",
    "Because of the noise, information has been filtered. Therefore, only the rows with X/V in the interval [-0.6,0.5] were taken into consideration.\n",
    "\n",
    "<b>Demo version reads only one sample</b>"
   ]
  },
  {
   "cell_type": "code",
   "execution_count": 92,
   "id": "014f582b",
   "metadata": {},
   "outputs": [
    {
     "name": "stdout",
     "output_type": "stream",
     "text": [
      "DataFrame: E1\n",
      "           X         Y\n",
      "61 -0.597839  0.000010\n",
      "62 -0.592804  0.000010\n",
      "63 -0.587769  0.000010\n",
      "64 -0.582733  0.000009\n",
      "65 -0.577698  0.000009\n",
      "\n"
     ]
    }
   ],
   "source": [
    "import pandas as pd\n",
    "import openpyxl\n",
    "\n",
    "# Load the Excel file\n",
    "file_path = '../data/Data.xlsx'\n",
    "wb = openpyxl.load_workbook(file_path, data_only=True)\n",
    "sheet_name = 'Autolab_data_points'\n",
    "ws = wb[sheet_name]\n",
    "\n",
    "# Read data into separate dataframes\n",
    "dfs = {}\n",
    "# for start_col in range(1, ws.max_column, 6):\n",
    "for start_col in range(1, 6, 6):\n",
    "    # Read the dataframe name from the first cell of the column\n",
    "    df_name = ws.cell(row=1, column=start_col).value\n",
    "    \n",
    "    # Read data into a dataframe, starting from index 2 for 'X' and index 3 for 'Y'\n",
    "    data = []\n",
    "    for row in range(2, ws.max_row + 1):\n",
    "        x_value = ws.cell(row=row, column=start_col + 1).value\n",
    "        y_value = ws.cell(row=row, column=start_col + 2).value\n",
    "        data.append([x_value, y_value])\n",
    "    \n",
    "    df = pd.DataFrame(data, columns=['X', 'Y'])\n",
    "    \n",
    "    # Drop the first row\n",
    "    df = df.iloc[1:]\n",
    "    \n",
    "    # Store the dataframe with its name\n",
    "    dfs[df_name] = df\n",
    "\n",
    "# Function to convert object columns to float and filter rows\n",
    "def convert_and_filter(df):\n",
    "    # Convert object columns to float\n",
    "    for col in df.columns:\n",
    "        if df[col].dtype == 'object':\n",
    "            try:\n",
    "                df[col] = df[col].astype(float)\n",
    "            except ValueError:\n",
    "                print(f\"Warning: Column {col} in DataFrame {df_name} could not be converted to float.\")\n",
    "    \n",
    "    # Filter rows based on the condition for column 'X'\n",
    "    df = df[(df['X'] > -0.6) & (df['X'] < 0.5)]\n",
    "    return df\n",
    "\n",
    "# Apply conversion and filtering to each dataframe in dfs\n",
    "for df_name in dfs:\n",
    "    dfs[df_name] = convert_and_filter(dfs[df_name])\n",
    "\n",
    "# Print the filtered dataframes for verification\n",
    "for df_name, df in dfs.items():\n",
    "    print(f\"DataFrame: {df_name}\")\n",
    "    print(df.head())\n",
    "    print()"
   ]
  },
  {
   "cell_type": "markdown",
   "id": "7de26256",
   "metadata": {},
   "source": [
    "Print shape of dataframes after filtering original data, for X/V in the interval [-0.6,0.5].\n",
    "\n",
    "Each dataframe from the dictionary contains 219 rows and 2 columns."
   ]
  },
  {
   "cell_type": "code",
   "execution_count": 93,
   "id": "e056c40b",
   "metadata": {},
   "outputs": [
    {
     "name": "stdout",
     "output_type": "stream",
     "text": [
      "(219, 2)\n"
     ]
    }
   ],
   "source": [
    "for df_name in dfs:\n",
    "    print(dfs[df_name].shape)"
   ]
  },
  {
   "cell_type": "markdown",
   "id": "7f2ccff2",
   "metadata": {},
   "source": [
    "Print dataframe from dictionary, based on experiment name"
   ]
  },
  {
   "cell_type": "code",
   "execution_count": 94,
   "id": "6e8794a1",
   "metadata": {},
   "outputs": [
    {
     "data": {
      "text/html": [
       "<div>\n",
       "<style scoped>\n",
       "    .dataframe tbody tr th:only-of-type {\n",
       "        vertical-align: middle;\n",
       "    }\n",
       "\n",
       "    .dataframe tbody tr th {\n",
       "        vertical-align: top;\n",
       "    }\n",
       "\n",
       "    .dataframe thead th {\n",
       "        text-align: right;\n",
       "    }\n",
       "</style>\n",
       "<table border=\"1\" class=\"dataframe\">\n",
       "  <thead>\n",
       "    <tr style=\"text-align: right;\">\n",
       "      <th></th>\n",
       "      <th>X</th>\n",
       "      <th>Y</th>\n",
       "    </tr>\n",
       "  </thead>\n",
       "  <tbody>\n",
       "    <tr>\n",
       "      <th>61</th>\n",
       "      <td>-0.597839</td>\n",
       "      <td>0.000010</td>\n",
       "    </tr>\n",
       "    <tr>\n",
       "      <th>62</th>\n",
       "      <td>-0.592804</td>\n",
       "      <td>0.000010</td>\n",
       "    </tr>\n",
       "    <tr>\n",
       "      <th>63</th>\n",
       "      <td>-0.587769</td>\n",
       "      <td>0.000010</td>\n",
       "    </tr>\n",
       "    <tr>\n",
       "      <th>64</th>\n",
       "      <td>-0.582733</td>\n",
       "      <td>0.000009</td>\n",
       "    </tr>\n",
       "    <tr>\n",
       "      <th>65</th>\n",
       "      <td>-0.577698</td>\n",
       "      <td>0.000009</td>\n",
       "    </tr>\n",
       "    <tr>\n",
       "      <th>...</th>\n",
       "      <td>...</td>\n",
       "      <td>...</td>\n",
       "    </tr>\n",
       "    <tr>\n",
       "      <th>275</th>\n",
       "      <td>0.479736</td>\n",
       "      <td>0.000009</td>\n",
       "    </tr>\n",
       "    <tr>\n",
       "      <th>276</th>\n",
       "      <td>0.484772</td>\n",
       "      <td>0.000010</td>\n",
       "    </tr>\n",
       "    <tr>\n",
       "      <th>277</th>\n",
       "      <td>0.489807</td>\n",
       "      <td>0.000010</td>\n",
       "    </tr>\n",
       "    <tr>\n",
       "      <th>278</th>\n",
       "      <td>0.494843</td>\n",
       "      <td>0.000010</td>\n",
       "    </tr>\n",
       "    <tr>\n",
       "      <th>279</th>\n",
       "      <td>0.499878</td>\n",
       "      <td>0.000010</td>\n",
       "    </tr>\n",
       "  </tbody>\n",
       "</table>\n",
       "<p>219 rows × 2 columns</p>\n",
       "</div>"
      ],
      "text/plain": [
       "            X         Y\n",
       "61  -0.597839  0.000010\n",
       "62  -0.592804  0.000010\n",
       "63  -0.587769  0.000010\n",
       "64  -0.582733  0.000009\n",
       "65  -0.577698  0.000009\n",
       "..        ...       ...\n",
       "275  0.479736  0.000009\n",
       "276  0.484772  0.000010\n",
       "277  0.489807  0.000010\n",
       "278  0.494843  0.000010\n",
       "279  0.499878  0.000010\n",
       "\n",
       "[219 rows x 2 columns]"
      ]
     },
     "execution_count": 94,
     "metadata": {},
     "output_type": "execute_result"
    }
   ],
   "source": [
    "dfs['E1']"
   ]
  },
  {
   "cell_type": "markdown",
   "id": "f9537e55",
   "metadata": {},
   "source": [
    "Create dataframe to store the main features of the plotes determined by the experiments:\n",
    "<ul>\n",
    "    <li>MaxPeak_X: value of X/V for the peak of the plot</li>\n",
    "    <li>MaxPeak_Y: value of Y/µA for the peak of the plot</li>\n",
    "    <li>NoPeaks: number of peaks in the plot</li>\n",
    "    <li>Area: area under the curve</li>\n",
    "</ul>"
   ]
  },
  {
   "cell_type": "code",
   "execution_count": 95,
   "id": "f3a9fac5",
   "metadata": {},
   "outputs": [],
   "source": [
    "# Create data for each column\n",
    "data = {\n",
    "    'MaxPeak_X': [],\n",
    "    'MaxPeak_Y': [],\n",
    "    'NoPeaks': [],\n",
    "    'Area': [],\n",
    "}\n",
    "\n",
    "# Create the DataFrame\n",
    "df_Input = pd.DataFrame(data)"
   ]
  },
  {
   "cell_type": "markdown",
   "id": "5c08485c",
   "metadata": {},
   "source": [
    "Calculate, for each experiment, the following features:\n",
    "<ul>\n",
    "    <li>max peak</li>\n",
    "    <li>number of peaks</li>\n",
    "    <li>area under the curve</li>\n",
    "</ul>"
   ]
  },
  {
   "cell_type": "code",
   "execution_count": 96,
   "id": "b7b3026a",
   "metadata": {},
   "outputs": [
    {
     "name": "stdout",
     "output_type": "stream",
     "text": [
      "E1\n",
      "            X         Y\n",
      "61  -0.597839  0.000010\n",
      "62  -0.592804  0.000010\n",
      "63  -0.587769  0.000010\n",
      "64  -0.582733  0.000009\n",
      "65  -0.577698  0.000009\n",
      "..        ...       ...\n",
      "275  0.479736  0.000009\n",
      "276  0.484772  0.000010\n",
      "277  0.489807  0.000010\n",
      "278  0.494843  0.000010\n",
      "279  0.499878  0.000010\n",
      "\n",
      "[219 rows x 2 columns]\n",
      "0.328674\n",
      "1.33749e-05\n",
      "Relevant peaks: 88     0.000010\n",
      "245    0.000013\n",
      "Name: Y, dtype: float64\n",
      "Number of peaks: 2\n",
      "Indices of relevant peaks: [88, 245]\n",
      "Area under the curve: 8.715010782507998e-06\n"
     ]
    }
   ],
   "source": [
    "import matplotlib.pyplot as plt\n",
    "import numpy as np\n",
    "from scipy.signal import argrelextrema\n",
    "\n",
    "# Iterating through the list of DataFrames and removing column 'Y'\n",
    "for df_name in dfs:\n",
    "    print(df_name)\n",
    "    print(dfs[df_name])\n",
    "    if isinstance(dfs[df_name], pd.DataFrame):  # Check if the item is a DataFrame\n",
    "        # Find the row with the maximum value in column 'Y'\n",
    "        max_peak_row = dfs[df_name].loc[dfs[df_name]['Y'].idxmax()]\n",
    "\n",
    "        # Extract 'X' and 'Y' values from the maximum peak row\n",
    "        x_max_peak = max_peak_row['X']\n",
    "        y_max_peak = max_peak_row['Y']\n",
    "        \n",
    "        print(x_max_peak)\n",
    "        print(y_max_peak)\n",
    "        \n",
    "        # Extract X and Y data from DataFrame\n",
    "        X = dfs[df_name]['X']\n",
    "        Y = dfs[df_name]['Y']\n",
    "        \n",
    "        # Find indices of local maxima in the 'Y' values\n",
    "        maxima_indices = argrelextrema(dfs[df_name]['Y'].values, np.greater)[0]\n",
    "\n",
    "        # Get the Y values corresponding to the maxima indices\n",
    "        maxima_values = dfs[df_name]['Y'].iloc[maxima_indices]\n",
    "\n",
    "        # Define a threshold as a percentage of the maximum peak\n",
    "        threshold_percentage = 60  # Adjust as needed\n",
    "        threshold = maxima_values.max() * (threshold_percentage / 100)\n",
    "\n",
    "        # Filter peaks that exceed the threshold\n",
    "        relevant_peaks = maxima_values[maxima_values > threshold]\n",
    "\n",
    "        print(\"Relevant peaks:\", relevant_peaks)\n",
    "\n",
    "        # Number of peaks is the number of local maxima found\n",
    "        num_peaks = len(relevant_peaks)\n",
    "\n",
    "        print(\"Number of peaks:\", num_peaks)\n",
    "\n",
    "        # Get the indices of the relevant peaks\n",
    "        relevant_peak_indices = relevant_peaks.index.tolist()\n",
    "\n",
    "        print(\"Indices of relevant peaks:\", relevant_peak_indices)\n",
    "        \n",
    "        # Calculate the area under the curve using the trapezoidal rule\n",
    "        area_under_curve = np.trapz(dfs[df_name]['Y'], x=dfs[df_name]['X'])\n",
    "\n",
    "        print(\"Area under the curve:\", area_under_curve)\n",
    "\n",
    "        # Append a new row to the DataFrame\n",
    "        df_Input.loc[len(df_Input)] = [x_max_peak, \n",
    "                                           y_max_peak, \n",
    "                                           num_peaks, \n",
    "                                           area_under_curve]\n",
    "        \n",
    "         # Create a new plot\n",
    "        plt.figure()\n",
    "\n",
    "        # Plot 'X' vs 'Y'\n",
    "        plt.plot(dfs[df_name]['X'], dfs[df_name]['Y'])\n",
    "        \n",
    "        plt.scatter(x_max_peak, y_max_peak, color='red', label='Max Peak')\n",
    "        \n",
    "        for i in range(num_peaks):\n",
    "            # Access the values of 'X' and 'Y' columns from the row with index 96\n",
    "            plt.scatter(dfs[df_name].loc[relevant_peak_indices[i], 'X'], \n",
    "                        dfs[df_name].loc[relevant_peak_indices[i], 'Y'], \n",
    "                        color='green', \n",
    "                        label='')\n",
    "\n",
    "        # Set plot title\n",
    "        plt.title(df_name)\n",
    "\n",
    "        # Set axis labels\n",
    "        plt.xlabel('X')\n",
    "        plt.ylabel('Y')\n",
    "        \n",
    "        # Save plot as a file in the 'plots' folder\n",
    "        plt.savefig(f'../plots/{df_name}.png')\n",
    "\n",
    "        # Close the plot\n",
    "        plt.close()"
   ]
  },
  {
   "cell_type": "markdown",
   "id": "aed49555",
   "metadata": {},
   "source": [
    "Display max peak, no peaks and area for all the experiments"
   ]
  },
  {
   "cell_type": "code",
   "execution_count": 97,
   "id": "7e6bb9fb",
   "metadata": {},
   "outputs": [
    {
     "data": {
      "image/png": "[encoded data removed]",
      "text/plain": [
       "<Figure size 432x288 with 1 Axes>"
      ]
     },
     "metadata": {
      "needs_background": "light"
     },
     "output_type": "display_data"
    }
   ],
   "source": [
    "import matplotlib.pyplot as plt\n",
    "import matplotlib.image as mpimg\n",
    "\n",
    "# Specify the path to your image file\n",
    "image_path = '../plots/E1.png'\n",
    "\n",
    "# Load the image\n",
    "img = mpimg.imread(image_path)\n",
    "\n",
    "# Display the image\n",
    "plt.imshow(img)\n",
    "plt.axis('off')  # Hide axes\n",
    "plt.title('Image from file')\n",
    "plt.show()"
   ]
  },
  {
   "cell_type": "code",
   "execution_count": 98,
   "id": "4927b7dd",
   "metadata": {},
   "outputs": [
    {
     "data": {
      "text/html": [
       "<table border=\"1\" class=\"dataframe\">\n",
       "  <thead>\n",
       "    <tr style=\"text-align: right;\">\n",
       "      <th></th>\n",
       "      <th>MaxPeak_X</th>\n",
       "      <th>MaxPeak_Y</th>\n",
       "      <th>NoPeaks</th>\n",
       "      <th>Area</th>\n",
       "    </tr>\n",
       "  </thead>\n",
       "  <tbody>\n",
       "    <tr>\n",
       "      <th>0</th>\n",
       "      <td>0.328674</td>\n",
       "      <td>0.000013</td>\n",
       "      <td>2.0</td>\n",
       "      <td>0.000009</td>\n",
       "    </tr>\n",
       "  </tbody>\n",
       "</table>"
      ],
      "text/plain": [
       "<IPython.core.display.HTML object>"
      ]
     },
     "metadata": {},
     "output_type": "display_data"
    }
   ],
   "source": [
    "from IPython.display import display, HTML\n",
    "\n",
    "display(HTML(df_Input.to_html()))"
   ]
  },
  {
   "cell_type": "markdown",
   "id": "880be693",
   "metadata": {},
   "source": [
    "Extract the output of the decision tree classifier. Each experiment involved the use of 3 siderophores : Pyociannina, Aerobactin and Enterobactin, in different quantities (0 mmol, 25 mmol, 50 mmol, 100 mmol). Data associated for each experiment was extracted."
   ]
  },
  {
   "cell_type": "code",
   "execution_count": 99,
   "id": "9fcf5ad5",
   "metadata": {},
   "outputs": [
    {
     "name": "stdout",
     "output_type": "stream",
     "text": [
      "  Exp  PyoC  AeB  EnB\n",
      "0  E1     0    0    0\n"
     ]
    }
   ],
   "source": [
    "import openpyxl\n",
    "import pandas as pd\n",
    "\n",
    "# Load the Excel file\n",
    "file_path = '../data/Data.xlsx'\n",
    "wb = openpyxl.load_workbook(file_path, data_only=True)\n",
    "sheet_name = 'Citiri date 14.05.24'\n",
    "ws = wb[sheet_name]\n",
    "\n",
    "# Define the range of rows and columns to read\n",
    "start_row = 11\n",
    "end_row = 11\n",
    "start_col = 'B'\n",
    "end_col = 'E'\n",
    "\n",
    "# Read data into a list of lists\n",
    "data = []\n",
    "for row in ws.iter_rows(min_row=start_row, max_row=end_row, min_col=openpyxl.utils.column_index_from_string(start_col), max_col=openpyxl.utils.column_index_from_string(end_col)):\n",
    "    row_data = []\n",
    "    for cell in row:\n",
    "        row_data.append(cell.value)\n",
    "    data.append(row_data)\n",
    "\n",
    "# Create a DataFrame from the data\n",
    "dfInfo = pd.DataFrame(data, columns=['Exp', 'PyoC', 'AeB', 'EnB'])\n",
    "\n",
    "# Print the DataFrame\n",
    "print(dfInfo)"
   ]
  },
  {
   "cell_type": "markdown",
   "id": "e391a37a",
   "metadata": {},
   "source": [
    "Create an one-hot-encoding for the output dataframe. \n",
    "\n",
    "For example, in experiment 0, there were used 0 mmol of Pyoc, 0 mmol of AeB and 0 mmol of EnB. \n",
    "\n",
    "Therefore, the one hot-encoded version looked like: \n",
    "\n",
    "    - PyoC_0:   1\t\n",
    "    - PyoC_25:  0\t\n",
    "    - PyoC_50:  0\n",
    "    - PyoC_100: 0\n",
    "    - AeB_0:    1\t\n",
    "    - AeB_25:   0\t\n",
    "    - AeB_50:   0\n",
    "    - AeB_100:  0\n",
    "    - EnB_0:    1\t\n",
    "    - EnB_25:   0\t\n",
    "    - EnB_50:   0\n",
    "    - EnB_100:  0"
   ]
  },
  {
   "cell_type": "code",
   "execution_count": 100,
   "id": "c967ca45",
   "metadata": {},
   "outputs": [],
   "source": [
    "import pandas as pd\n",
    "\n",
    "# One-hot encode the specified columns\n",
    "df_Output = pd.get_dummies(dfInfo, columns=['PyoC', 'AeB', 'EnB'], prefix=['PyoC', 'AeB', 'EnB'])\n",
    "\n",
    "# Reorder the columns to match the specified format\n",
    "columns_order = [\n",
    "    'PyoC_0', 'PyoC_25', 'PyoC_50', 'PyoC_100',\n",
    "    'AeB_0', 'AeB_25', 'AeB_50', 'AeB_100',\n",
    "    'EnB_0', 'EnB_25', 'EnB_50', 'EnB_100'\n",
    "]\n",
    "\n",
    "# Add missing columns with zeros if any are missing\n",
    "for col in columns_order:\n",
    "    if col not in df_Output:\n",
    "        df_Output[col] = 0\n",
    "\n",
    "# Reorder the DataFrame to have the columns in the desired order\n",
    "df_Output = df_Output[columns_order]"
   ]
  },
  {
   "cell_type": "code",
   "execution_count": 101,
   "id": "ab8e42a7",
   "metadata": {},
   "outputs": [
    {
     "data": {
      "text/html": [
       "<table border=\"1\" class=\"dataframe\">\n",
       "  <thead>\n",
       "    <tr style=\"text-align: right;\">\n",
       "      <th></th>\n",
       "      <th>PyoC_0</th>\n",
       "      <th>PyoC_25</th>\n",
       "      <th>PyoC_50</th>\n",
       "      <th>PyoC_100</th>\n",
       "      <th>AeB_0</th>\n",
       "      <th>AeB_25</th>\n",
       "      <th>AeB_50</th>\n",
       "      <th>AeB_100</th>\n",
       "      <th>EnB_0</th>\n",
       "      <th>EnB_25</th>\n",
       "      <th>EnB_50</th>\n",
       "      <th>EnB_100</th>\n",
       "    </tr>\n",
       "  </thead>\n",
       "  <tbody>\n",
       "    <tr>\n",
       "      <th>0</th>\n",
       "      <td>1</td>\n",
       "      <td>0</td>\n",
       "      <td>0</td>\n",
       "      <td>0</td>\n",
       "      <td>1</td>\n",
       "      <td>0</td>\n",
       "      <td>0</td>\n",
       "      <td>0</td>\n",
       "      <td>1</td>\n",
       "      <td>0</td>\n",
       "      <td>0</td>\n",
       "      <td>0</td>\n",
       "    </tr>\n",
       "  </tbody>\n",
       "</table>"
      ],
      "text/plain": [
       "<IPython.core.display.HTML object>"
      ]
     },
     "metadata": {},
     "output_type": "display_data"
    }
   ],
   "source": [
    "from IPython.display import display, HTML\n",
    "\n",
    "display(HTML(df_Output.to_html()))"
   ]
  },
  {
   "cell_type": "markdown",
   "id": "ff409817",
   "metadata": {},
   "source": [
    "Concatenate input (Max Peak, No Peaks, Area) with output (one-hot encoded version of siderophores and their concentration)"
   ]
  },
  {
   "cell_type": "code",
   "execution_count": 102,
   "id": "a1fa22f1",
   "metadata": {},
   "outputs": [
    {
     "name": "stdout",
     "output_type": "stream",
     "text": [
      "   MaxPeak_X  MaxPeak_Y  NoPeaks      Area  PyoC_0  PyoC_25  PyoC_50  \\\n",
      "0   0.328674   0.000013      2.0  0.000009       1        0        0   \n",
      "\n",
      "   PyoC_100  AeB_0  AeB_25  AeB_50  AeB_100  EnB_0  EnB_25  EnB_50  EnB_100  \n",
      "0         0      1       0       0        0      1       0       0        0  \n"
     ]
    }
   ],
   "source": [
    "# Concatenate the two DataFrames column-wise\n",
    "df_concatenated = pd.concat([df_Input, df_Output], axis=1)\n",
    "\n",
    "# Display the concatenated DataFrame\n",
    "print(df_concatenated)"
   ]
  },
  {
   "cell_type": "markdown",
   "id": "5de02b5c",
   "metadata": {},
   "source": [
    "Declare input and output columns"
   ]
  },
  {
   "cell_type": "code",
   "execution_count": 103,
   "id": "99f82f97",
   "metadata": {},
   "outputs": [],
   "source": [
    "# Columns\n",
    "all_input_cols = [  'MaxPeak_X',\n",
    "                    'MaxPeak_Y',\n",
    "                    'NoPeaks',\n",
    "                    'Area'\n",
    "                   ]\n",
    "\n",
    "all_output_cols = ['PyoC_0','PyoC_25','PyoC_50','PyoC_100','AeB_0','AeB_25','AeB_50','AeB_100','EnB_0','EnB_25','EnB_50','EnB_100']"
   ]
  },
  {
   "cell_type": "code",
   "execution_count": 104,
   "id": "31c6d9bb",
   "metadata": {},
   "outputs": [],
   "source": [
    "# Separate features (input) and target (output)\n",
    "X = df_concatenated[all_input_cols]\n",
    "y = df_concatenated[all_output_cols]"
   ]
  },
  {
   "cell_type": "code",
   "execution_count": 105,
   "id": "d4c2e9f0",
   "metadata": {},
   "outputs": [
    {
     "data": {
      "text/html": [
       "<div>\n",
       "<style scoped>\n",
       "    .dataframe tbody tr th:only-of-type {\n",
       "        vertical-align: middle;\n",
       "    }\n",
       "\n",
       "    .dataframe tbody tr th {\n",
       "        vertical-align: top;\n",
       "    }\n",
       "\n",
       "    .dataframe thead th {\n",
       "        text-align: right;\n",
       "    }\n",
       "</style>\n",
       "<table border=\"1\" class=\"dataframe\">\n",
       "  <thead>\n",
       "    <tr style=\"text-align: right;\">\n",
       "      <th></th>\n",
       "      <th>MaxPeak_X</th>\n",
       "      <th>MaxPeak_Y</th>\n",
       "      <th>NoPeaks</th>\n",
       "      <th>Area</th>\n",
       "    </tr>\n",
       "  </thead>\n",
       "  <tbody>\n",
       "    <tr>\n",
       "      <th>0</th>\n",
       "      <td>0.328674</td>\n",
       "      <td>0.000013</td>\n",
       "      <td>2.0</td>\n",
       "      <td>0.000009</td>\n",
       "    </tr>\n",
       "  </tbody>\n",
       "</table>\n",
       "</div>"
      ],
      "text/plain": [
       "   MaxPeak_X  MaxPeak_Y  NoPeaks      Area\n",
       "0   0.328674   0.000013      2.0  0.000009"
      ]
     },
     "execution_count": 105,
     "metadata": {},
     "output_type": "execute_result"
    }
   ],
   "source": [
    "X"
   ]
  },
  {
   "cell_type": "code",
   "execution_count": 106,
   "id": "bdc7db2b",
   "metadata": {},
   "outputs": [
    {
     "data": {
      "text/html": [
       "<div>\n",
       "<style scoped>\n",
       "    .dataframe tbody tr th:only-of-type {\n",
       "        vertical-align: middle;\n",
       "    }\n",
       "\n",
       "    .dataframe tbody tr th {\n",
       "        vertical-align: top;\n",
       "    }\n",
       "\n",
       "    .dataframe thead th {\n",
       "        text-align: right;\n",
       "    }\n",
       "</style>\n",
       "<table border=\"1\" class=\"dataframe\">\n",
       "  <thead>\n",
       "    <tr style=\"text-align: right;\">\n",
       "      <th></th>\n",
       "      <th>PyoC_0</th>\n",
       "      <th>PyoC_25</th>\n",
       "      <th>PyoC_50</th>\n",
       "      <th>PyoC_100</th>\n",
       "      <th>AeB_0</th>\n",
       "      <th>AeB_25</th>\n",
       "      <th>AeB_50</th>\n",
       "      <th>AeB_100</th>\n",
       "      <th>EnB_0</th>\n",
       "      <th>EnB_25</th>\n",
       "      <th>EnB_50</th>\n",
       "      <th>EnB_100</th>\n",
       "    </tr>\n",
       "  </thead>\n",
       "  <tbody>\n",
       "    <tr>\n",
       "      <th>0</th>\n",
       "      <td>1</td>\n",
       "      <td>0</td>\n",
       "      <td>0</td>\n",
       "      <td>0</td>\n",
       "      <td>1</td>\n",
       "      <td>0</td>\n",
       "      <td>0</td>\n",
       "      <td>0</td>\n",
       "      <td>1</td>\n",
       "      <td>0</td>\n",
       "      <td>0</td>\n",
       "      <td>0</td>\n",
       "    </tr>\n",
       "  </tbody>\n",
       "</table>\n",
       "</div>"
      ],
      "text/plain": [
       "   PyoC_0  PyoC_25  PyoC_50  PyoC_100  AeB_0  AeB_25  AeB_50  AeB_100  EnB_0  \\\n",
       "0       1        0        0         0      1       0       0        0      1   \n",
       "\n",
       "   EnB_25  EnB_50  EnB_100  \n",
       "0       0       0        0  "
      ]
     },
     "execution_count": 106,
     "metadata": {},
     "output_type": "execute_result"
    }
   ],
   "source": [
    "y"
   ]
  },
  {
   "cell_type": "code",
   "execution_count": 107,
   "id": "a9154c04",
   "metadata": {},
   "outputs": [],
   "source": [
    "X = X.values\n",
    "y = y.values"
   ]
  },
  {
   "cell_type": "code",
   "execution_count": 108,
   "id": "1f44b80c",
   "metadata": {},
   "outputs": [],
   "source": [
    "# Load libraries\n",
    "import pandas as pd\n",
    "from sklearn.tree import DecisionTreeClassifier # Import Decision Tree Classifier\n",
    "from sklearn.model_selection import train_test_split # Import train_test_split function\n",
    "from sklearn import metrics #Import scikit-learn metrics module for accuracy calculation"
   ]
  },
  {
   "cell_type": "markdown",
   "id": "d61140c8",
   "metadata": {},
   "source": [
    "Train test split: 80% training size, 20% test size."
   ]
  },
  {
   "cell_type": "code",
   "execution_count": null,
   "id": "be792005",
   "metadata": {},
   "outputs": [],
   "source": [
    "# # Split the data into training and testing sets\n",
    "# X_train, X_test, y_train, y_test = train_test_split(X, y, test_size=0.2, random_state=42)"
   ]
  },
  {
   "cell_type": "markdown",
   "id": "d53fc2a1",
   "metadata": {},
   "source": [
    "Create the decision tree classifier, fit the training dataset and predict based on test dataset "
   ]
  },
  {
   "cell_type": "code",
   "execution_count": null,
   "id": "a487c804",
   "metadata": {},
   "outputs": [],
   "source": [
    "# # Create Decision Tree classifer object\n",
    "# clf = DecisionTreeClassifier()\n",
    "\n",
    "# # Train Decision Tree Classifer\n",
    "# clf = clf.fit(X_train,y_train)\n",
    "\n",
    "# #Predict the response for test dataset\n",
    "# y_pred = clf.predict(X_test)"
   ]
  },
  {
   "cell_type": "markdown",
   "id": "41e4eb8a",
   "metadata": {},
   "source": [
    "Load model"
   ]
  },
  {
   "cell_type": "code",
   "execution_count": 109,
   "id": "20072d13",
   "metadata": {},
   "outputs": [
    {
     "name": "stdout",
     "output_type": "stream",
     "text": [
      "Model loaded successfully using pickle!\n"
     ]
    }
   ],
   "source": [
    "import pickle\n",
    "\n",
    "# Load the model from the file\n",
    "with open('../model/model.pkl', 'rb') as file:\n",
    "    clf = pickle.load(file)\n",
    "\n",
    "# Test the loaded model\n",
    "print(\"Model loaded successfully using pickle!\")"
   ]
  },
  {
   "cell_type": "markdown",
   "id": "df22d891",
   "metadata": {},
   "source": [
    "Predict output of training sample. (not very concludent)"
   ]
  },
  {
   "cell_type": "code",
   "execution_count": 110,
   "id": "d9d843c9",
   "metadata": {},
   "outputs": [],
   "source": [
    "#Predict the response for test dataset\n",
    "y_pred = clf.predict(X)"
   ]
  },
  {
   "cell_type": "code",
   "execution_count": 111,
   "id": "d0bedb53",
   "metadata": {},
   "outputs": [
    {
     "data": {
      "text/plain": [
       "array([[1, 0, 0, 0, 1, 0, 0, 0, 1, 0, 0, 0]], dtype=int64)"
      ]
     },
     "execution_count": 111,
     "metadata": {},
     "output_type": "execute_result"
    }
   ],
   "source": [
    "y"
   ]
  },
  {
   "cell_type": "code",
   "execution_count": 112,
   "id": "8c158355",
   "metadata": {},
   "outputs": [
    {
     "data": {
      "text/plain": [
       "array([[1, 0, 0, 0, 1, 0, 0, 0, 1, 0, 0, 0]], dtype=int64)"
      ]
     },
     "execution_count": 112,
     "metadata": {},
     "output_type": "execute_result"
    }
   ],
   "source": [
    "y_pred"
   ]
  }
 ],
 "metadata": {
  "kernelspec": {
   "display_name": "Python 3",
   "language": "python",
   "name": "python3"
  },
  "language_info": {
   "codemirror_mode": {
    "name": "ipython",
    "version": 3
   },
   "file_extension": ".py",
   "mimetype": "text/x-python",
   "name": "python",
   "nbconvert_exporter": "python",
   "pygments_lexer": "ipython3",
   "version": "3.6.8"
  }
 },
 "nbformat": 4,
 "nbformat_minor": 5
}
